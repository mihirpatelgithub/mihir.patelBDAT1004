{
 "cells": [
  {
   "cell_type": "markdown",
   "id": "c1ded494",
   "metadata": {},
   "source": [
    "# Problem set 2"
   ]
  },
  {
   "cell_type": "code",
   "execution_count": null,
   "id": "d9a0c2b9",
   "metadata": {},
   "outputs": [],
   "source": [
    "Que:1\n"
   ]
  },
  {
   "cell_type": "code",
   "execution_count": 22,
   "id": "ae341c52",
   "metadata": {},
   "outputs": [
    {
     "data": {
      "text/plain": [
       "6"
      ]
     },
     "execution_count": 22,
     "metadata": {},
     "output_type": "execute_result"
    }
   ],
   "source": [
    "a = 0\n",
    "\n",
    "def b():\n",
    "    global a\n",
    "    a = c(a)\n",
    "    \n",
    "def c(a):\n",
    "    return a + 2\n",
    "\n",
    "b()\n",
    "b()\n",
    "b()\n",
    "a"
   ]
  },
  {
   "cell_type": "markdown",
   "id": "c6c12b36",
   "metadata": {},
   "source": [
    "explanation:\n",
    "\n",
    "when we excecute each time 2 is added\n",
    "\n",
    "when we write, b() then a is 0 + 2 = 2\n",
    "\n",
    "b() then a is 2 + 2 = 4\n",
    "\n",
    "b() then a is 4 + 2 = 6\n",
    "\n",
    "a is 6 finally"
   ]
  },
  {
   "cell_type": "markdown",
   "id": "82f07ba8",
   "metadata": {},
   "source": [
    "Que: 2"
   ]
  },
  {
   "cell_type": "code",
   "execution_count": 23,
   "id": "07f75a41",
   "metadata": {},
   "outputs": [
    {
     "name": "stdout",
     "output_type": "stream",
     "text": [
      "File idterm.py not found\n"
     ]
    }
   ],
   "source": [
    "try:\n",
    "    fileLength('idterm.py')\n",
    "    infile = open(filename) \n",
    "except:\n",
    "    print(\"File idterm.py not found\")"
   ]
  },
  {
   "cell_type": "markdown",
   "id": "0fff12ec",
   "metadata": {},
   "source": [
    "Que:3"
   ]
  },
  {
   "cell_type": "code",
   "execution_count": 24,
   "id": "9bb66bda",
   "metadata": {},
   "outputs": [
    {
     "name": "stdout",
     "output_type": "stream",
     "text": [
      "['doll', 'firetruck', 'kitten']\n"
     ]
    }
   ],
   "source": [
    "marsupial = []\n",
    "\n",
    "marsupial.append('doll')\n",
    "marsupial.append('firetruck') \n",
    "marsupial.append('kitten') \n",
    "print(marsupial)"
   ]
  },
  {
   "cell_type": "markdown",
   "id": "ee0d3b8a",
   "metadata": {},
   "source": [
    "Que:4"
   ]
  },
  {
   "cell_type": "code",
   "execution_count": 33,
   "id": "a416c08f",
   "metadata": {},
   "outputs": [
    {
     "name": "stdout",
     "output_type": "stream",
     "text": [
      "10\n",
      "5.0\n",
      "16.0\n",
      "8.0\n",
      "4.0\n",
      "2.0\n",
      "1.0\n"
     ]
    }
   ],
   "source": [
    "def main():\n",
    "    collatz(10)\n",
    "def collatz(x):\n",
    "    if x == 1:\n",
    "        print(x)\n",
    "    elif x %  2 == 0:\n",
    "        print(x)\n",
    "        x = x/2\n",
    "        collatz(x)\n",
    "    else:\n",
    "        print(x)\n",
    "        x = 3*x + 1\n",
    "        collatz(x)\n",
    "if __name__ == \"__main__\":\n",
    "     main()"
   ]
  },
  {
   "cell_type": "markdown",
   "id": "48dfa235",
   "metadata": {},
   "source": [
    "Que:5"
   ]
  },
  {
   "cell_type": "code",
   "execution_count": 25,
   "id": "bb480b6f",
   "metadata": {},
   "outputs": [
    {
     "name": "stdout",
     "output_type": "stream",
     "text": [
      "Enter positive integer number7\n"
     ]
    },
    {
     "data": {
      "text/plain": [
       "'111'"
      ]
     },
     "execution_count": 25,
     "metadata": {},
     "output_type": "execute_result"
    }
   ],
   "source": [
    "inputw = int(input(\"Enter positive integer number\"))\n",
    "\n",
    "def binary(inputw):\n",
    "    if inputw < 0:\n",
    "        print(\"Input a positive integer\")\n",
    "    else:\n",
    "        return \"{0:b}\".format(inputw)\n",
    "        \n",
    "binary(inputw)"
   ]
  },
  {
   "cell_type": "markdown",
   "id": "a6ef0479",
   "metadata": {},
   "source": [
    "Que:6"
   ]
  },
  {
   "cell_type": "code",
   "execution_count": 26,
   "id": "42d45c4d",
   "metadata": {},
   "outputs": [
    {
     "name": "stdout",
     "output_type": "stream",
     "text": [
      "[]\n"
     ]
    }
   ],
   "source": [
    "#help - https://docs.python.org/3/library/html.parser.html\n",
    "from html.parser import HTMLParser\n",
    "\n",
    "inputfile = open(\"w3c.html\", \"r\")\n",
    "content = inputfile.read()\n",
    "inputfile.close()\n",
    "\n",
    "class headingParser(HTMLParser):\n",
    "\n",
    "    def __init__(self):\n",
    "        super().__init__()\n",
    "        self.data = []\n",
    "        self.capture = False\n",
    "\n",
    "    def handle_starttag(self, tag, attrs):\n",
    "        if tag in ('p', 'h1'):\n",
    "            self.capture = True\n",
    "        elif tag in ('p', 'h2'):\n",
    "            self.capture = True\n",
    "        \n",
    "    def handle_endtag(self, tag):\n",
    "        if tag in ('p', 'h1'):\n",
    "            self.capture = False\n",
    "        elif tag in ('p', 'h2'):\n",
    "            self.capture = False\n",
    "\n",
    "    def handle_data(self, data):\n",
    "        if self.capture:\n",
    "            self.data.append(data)\n",
    "\n",
    "parser = headingParser()\n",
    "parser.feed(content)\n",
    "\n",
    "print(parser.data)"
   ]
  },
  {
   "cell_type": "markdown",
   "id": "c7baff7a",
   "metadata": {},
   "source": [
    "Que:7"
   ]
  },
  {
   "cell_type": "code",
   "execution_count": null,
   "id": "8d4ea6ad",
   "metadata": {},
   "outputs": [],
   "source": [
    "inputurl = input(\"Enter URL \")\n",
    "inputw = int(input(\"Enter indent \"))\n",
    "\n",
    "def urlindent(inputurl):\n",
    "    while inputw > 0:\n",
    "        print(\"poop\")\n",
    "    else:\n",
    "        print(\"Enter Valid number\")\n",
    "urlindent()"
   ]
  },
  {
   "cell_type": "markdown",
   "id": "e79de26a",
   "metadata": {},
   "source": [
    "Que:8\n",
    "\n",
    "a. SELECT temperature FROM table \n",
    "b. SELECT DISTINCT city FROM table \n",
    "c. SELECT * FROM table WHERE Country = \"India\" \n",
    "d. SELECT * FROM table WHERE Season = \"Fall\" \n",
    "e. SELECT city,country,season FROM table WHERE rainfall BETWEEN 200 and 400 \n",
    "f. SELECT city,country FROM table WHERE season = \"Fall\" AND temperature>20 ORDER BY temperature ASC \n",
    "g. SELECT city,county,season, temperature, rainfall365 AS totalrf FROM table WHERE city=\"cairo\" \n",
    "h. SELECT city,county,season, temperature, rainfall365 AS totalrf FROM table ORDER BY season"
   ]
  },
  {
   "cell_type": "markdown",
   "id": "2527bd2d",
   "metadata": {},
   "source": [
    "Que:9"
   ]
  },
  {
   "cell_type": "code",
   "execution_count": null,
   "id": "faab2dcf",
   "metadata": {},
   "outputs": [],
   "source": [
    "words = ['The', 'quick', 'brown', 'fox', 'jumps', 'over', 'the', 'lazy', 'dog']"
   ]
  },
  {
   "cell_type": "code",
   "execution_count": 28,
   "id": "f40f6bcc",
   "metadata": {},
   "outputs": [
    {
     "name": "stdout",
     "output_type": "stream",
     "text": [
      "THE\n",
      "QUICK\n",
      "BROWN\n",
      "FOX\n",
      "JUMPS\n",
      "OVER\n",
      "THE\n",
      "LAZY\n",
      "DOG\n"
     ]
    }
   ],
   "source": [
    "#a\n",
    "\n",
    "words = ['The', 'quick', 'brown', 'fox', 'jumps', 'over', 'the', 'lazy', 'dog']\n",
    "def uppercae():\n",
    "    for word in words:\n",
    "        convert = word.upper()\n",
    "        print(convert)\n",
    "\n",
    "uppercae()"
   ]
  },
  {
   "cell_type": "code",
   "execution_count": 29,
   "id": "1c7476aa",
   "metadata": {},
   "outputs": [
    {
     "name": "stdout",
     "output_type": "stream",
     "text": [
      "the\n",
      "quick\n",
      "brown\n",
      "fox\n",
      "jumps\n",
      "over\n",
      "the\n",
      "lazy\n",
      "dog\n"
     ]
    }
   ],
   "source": [
    "#b\n",
    "\n",
    "\n",
    "def lowercae():\n",
    "    for word in words:\n",
    "        convert = word.lower()\n",
    "        print(convert)\n",
    "\n",
    "lowercae()"
   ]
  },
  {
   "cell_type": "code",
   "execution_count": 30,
   "id": "22b369ed",
   "metadata": {},
   "outputs": [
    {
     "name": "stdout",
     "output_type": "stream",
     "text": [
      "3\n",
      "5\n",
      "5\n",
      "3\n",
      "5\n",
      "4\n",
      "3\n",
      "4\n",
      "3\n"
     ]
    }
   ],
   "source": [
    "#c.\n",
    "\n",
    "def wlength():\n",
    "    for word in words:\n",
    "        length = len(word)\n",
    "        print(length)\n",
    "\n",
    "wlength()"
   ]
  },
  {
   "cell_type": "code",
   "execution_count": 31,
   "id": "3eaed21e",
   "metadata": {},
   "outputs": [
    {
     "name": "stdout",
     "output_type": "stream",
     "text": [
      "['THE', 'the', 3]\n",
      "['QUICK', 'quick', 5]\n",
      "['BROWN', 'brown', 5]\n",
      "['FOX', 'fox', 3]\n",
      "['JUMPS', 'jumps', 5]\n",
      "['OVER', 'over', 4]\n",
      "['THE', 'the', 3]\n",
      "['LAZY', 'lazy', 4]\n",
      "['DOG', 'dog', 3]\n"
     ]
    }
   ],
   "source": [
    "#d.\n",
    "def final():\n",
    "    for word in words:\n",
    "        convertu = word.upper()\n",
    "        convertl = word.lower()\n",
    "        length = len(word)\n",
    "        list=[convertu,convertl,length]\n",
    "        print(list)\n",
    "\n",
    "final()"
   ]
  },
  {
   "cell_type": "code",
   "execution_count": 32,
   "id": "fa578c97",
   "metadata": {},
   "outputs": [
    {
     "name": "stdout",
     "output_type": "stream",
     "text": [
      "quick\n",
      "brown\n",
      "jumps\n"
     ]
    }
   ],
   "source": [
    "#e.\n",
    "def charactercheck():\n",
    "    for word in words:\n",
    "        length = len(word)\n",
    "        if length > 4:\n",
    "            print(word)\n",
    "\n",
    "charactercheck()"
   ]
  },
  {
   "cell_type": "code",
   "execution_count": null,
   "id": "e8d551f3",
   "metadata": {},
   "outputs": [],
   "source": []
  }
 ],
 "metadata": {
  "kernelspec": {
   "display_name": "Python 3 (ipykernel)",
   "language": "python",
   "name": "python3"
  },
  "language_info": {
   "codemirror_mode": {
    "name": "ipython",
    "version": 3
   },
   "file_extension": ".py",
   "mimetype": "text/x-python",
   "name": "python",
   "nbconvert_exporter": "python",
   "pygments_lexer": "ipython3",
   "version": "3.9.12"
  }
 },
 "nbformat": 4,
 "nbformat_minor": 5
}
